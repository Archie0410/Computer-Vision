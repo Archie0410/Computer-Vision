{
 "cells": [
  {
   "cell_type": "markdown",
   "id": "f606ca42-b67d-497f-8806-64193b71b86b",
   "metadata": {},
   "source": [
    "## Load the Cascade"
   ]
  },
  {
   "cell_type": "code",
   "execution_count": 2,
   "id": "991ee8de-a330-4386-9d56-029c5cdad93e",
   "metadata": {},
   "outputs": [],
   "source": [
    "import cv2"
   ]
  },
  {
   "cell_type": "code",
   "execution_count": 3,
   "id": "e73accdf-d604-47fb-8fbb-ed10ff5545fc",
   "metadata": {},
   "outputs": [],
   "source": [
    "face_cascade = cv2.CascadeClassifier('haarcascade_frontalface_default.xml')"
   ]
  },
  {
   "cell_type": "markdown",
   "id": "0b7ecf96-1b90-4697-8773-fc8bad20709b",
   "metadata": {},
   "source": [
    "## Convert to Grayscale"
   ]
  },
  {
   "cell_type": "code",
   "execution_count": 12,
   "id": "586e4d12-9dcb-4e03-a964-562c73e2ef93",
   "metadata": {},
   "outputs": [],
   "source": [
    "img = cv2.imread('demo_face.jpg')\n",
    "gray = cv2.cvtColor(img, cv2.COLOR_BGR2GRAY)"
   ]
  },
  {
   "cell_type": "markdown",
   "id": "4ddc7fd6-154d-45af-b4a4-e785ed52a5c3",
   "metadata": {},
   "source": [
    "## Detect the Faces"
   ]
  },
  {
   "cell_type": "code",
   "execution_count": 17,
   "id": "a946ad7c-b15a-4ec0-a0a5-c978253e2477",
   "metadata": {},
   "outputs": [],
   "source": [
    "faces = face_cascade.detectMultiScale(gray, 1.1, 4)"
   ]
  },
  {
   "cell_type": "markdown",
   "id": "3756690b-6856-46f4-8776-4aaff91eea23",
   "metadata": {},
   "source": [
    "## Draw the rectangle around each face"
   ]
  },
  {
   "cell_type": "code",
   "execution_count": 25,
   "id": "d19f4b83-b2b6-4807-ab35-388e508dd235",
   "metadata": {},
   "outputs": [],
   "source": [
    "for (x, y, w, h) in faces:\n",
    "    ROI = img[y:y+h, x:x+w]\n",
    "    blur = cv2.GaussianBlur(ROI, (91,91),0) \n",
    "    img[y:y+h, x:x+w] = blur\n",
    "#     cv2.rectangle(img, (x, y), (x+w, y+h), (0, 0, 255), 2)"
   ]
  },
  {
   "cell_type": "code",
   "execution_count": 27,
   "id": "1ae4ed8f-5a23-4e0d-b2a9-3d758bbe7b29",
   "metadata": {},
   "outputs": [],
   "source": [
    "cv2.imshow('img',img)\n",
    "cv2.waitKey(0)\n",
    "cv2.destroyAllWindows()"
   ]
  }
 ],
 "metadata": {
  "kernelspec": {
   "display_name": "Python 3 (ipykernel)",
   "language": "python",
   "name": "python3"
  },
  "language_info": {
   "codemirror_mode": {
    "name": "ipython",
    "version": 3
   },
   "file_extension": ".py",
   "mimetype": "text/x-python",
   "name": "python",
   "nbconvert_exporter": "python",
   "pygments_lexer": "ipython3",
   "version": "3.12.7"
  }
 },
 "nbformat": 4,
 "nbformat_minor": 5
}
